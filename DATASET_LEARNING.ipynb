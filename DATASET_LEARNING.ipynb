{
  "nbformat": 4,
  "nbformat_minor": 0,
  "metadata": {
    "colab": {
      "provenance": [],
      "authorship_tag": "ABX9TyPp8HmfrerKSEkuPk/Tn34s",
      "include_colab_link": true
    },
    "kernelspec": {
      "name": "python3",
      "display_name": "Python 3"
    },
    "language_info": {
      "name": "python"
    }
  },
  "cells": [
    {
      "cell_type": "markdown",
      "metadata": {
        "id": "view-in-github",
        "colab_type": "text"
      },
      "source": [
        "<a href=\"https://colab.research.google.com/github/raunakyadav92/DATASET_LEARNING/blob/main/DATASET_LEARNING.ipynb\" target=\"_parent\"><img src=\"https://colab.research.google.com/assets/colab-badge.svg\" alt=\"Open In Colab\"/></a>"
      ]
    },
    {
      "cell_type": "code",
      "execution_count": 1,
      "metadata": {
        "colab": {
          "base_uri": "https://localhost:8080/",
          "height": 90
        },
        "id": "MJ5_0d2x6-Q-",
        "outputId": "4755d4dc-802f-47c8-9c4a-55452b6e0a63"
      },
      "outputs": [
        {
          "output_type": "display_data",
          "data": {
            "text/plain": [
              "<IPython.core.display.HTML object>"
            ],
            "text/html": [
              "\n",
              "     <input type=\"file\" id=\"files-29a4c573-1750-4bb8-914a-3d9f6311cd4d\" name=\"files[]\" multiple disabled\n",
              "        style=\"border:none\" />\n",
              "     <output id=\"result-29a4c573-1750-4bb8-914a-3d9f6311cd4d\">\n",
              "      Upload widget is only available when the cell has been executed in the\n",
              "      current browser session. Please rerun this cell to enable.\n",
              "      </output>\n",
              "      <script>// Copyright 2017 Google LLC\n",
              "//\n",
              "// Licensed under the Apache License, Version 2.0 (the \"License\");\n",
              "// you may not use this file except in compliance with the License.\n",
              "// You may obtain a copy of the License at\n",
              "//\n",
              "//      http://www.apache.org/licenses/LICENSE-2.0\n",
              "//\n",
              "// Unless required by applicable law or agreed to in writing, software\n",
              "// distributed under the License is distributed on an \"AS IS\" BASIS,\n",
              "// WITHOUT WARRANTIES OR CONDITIONS OF ANY KIND, either express or implied.\n",
              "// See the License for the specific language governing permissions and\n",
              "// limitations under the License.\n",
              "\n",
              "/**\n",
              " * @fileoverview Helpers for google.colab Python module.\n",
              " */\n",
              "(function(scope) {\n",
              "function span(text, styleAttributes = {}) {\n",
              "  const element = document.createElement('span');\n",
              "  element.textContent = text;\n",
              "  for (const key of Object.keys(styleAttributes)) {\n",
              "    element.style[key] = styleAttributes[key];\n",
              "  }\n",
              "  return element;\n",
              "}\n",
              "\n",
              "// Max number of bytes which will be uploaded at a time.\n",
              "const MAX_PAYLOAD_SIZE = 100 * 1024;\n",
              "\n",
              "function _uploadFiles(inputId, outputId) {\n",
              "  const steps = uploadFilesStep(inputId, outputId);\n",
              "  const outputElement = document.getElementById(outputId);\n",
              "  // Cache steps on the outputElement to make it available for the next call\n",
              "  // to uploadFilesContinue from Python.\n",
              "  outputElement.steps = steps;\n",
              "\n",
              "  return _uploadFilesContinue(outputId);\n",
              "}\n",
              "\n",
              "// This is roughly an async generator (not supported in the browser yet),\n",
              "// where there are multiple asynchronous steps and the Python side is going\n",
              "// to poll for completion of each step.\n",
              "// This uses a Promise to block the python side on completion of each step,\n",
              "// then passes the result of the previous step as the input to the next step.\n",
              "function _uploadFilesContinue(outputId) {\n",
              "  const outputElement = document.getElementById(outputId);\n",
              "  const steps = outputElement.steps;\n",
              "\n",
              "  const next = steps.next(outputElement.lastPromiseValue);\n",
              "  return Promise.resolve(next.value.promise).then((value) => {\n",
              "    // Cache the last promise value to make it available to the next\n",
              "    // step of the generator.\n",
              "    outputElement.lastPromiseValue = value;\n",
              "    return next.value.response;\n",
              "  });\n",
              "}\n",
              "\n",
              "/**\n",
              " * Generator function which is called between each async step of the upload\n",
              " * process.\n",
              " * @param {string} inputId Element ID of the input file picker element.\n",
              " * @param {string} outputId Element ID of the output display.\n",
              " * @return {!Iterable<!Object>} Iterable of next steps.\n",
              " */\n",
              "function* uploadFilesStep(inputId, outputId) {\n",
              "  const inputElement = document.getElementById(inputId);\n",
              "  inputElement.disabled = false;\n",
              "\n",
              "  const outputElement = document.getElementById(outputId);\n",
              "  outputElement.innerHTML = '';\n",
              "\n",
              "  const pickedPromise = new Promise((resolve) => {\n",
              "    inputElement.addEventListener('change', (e) => {\n",
              "      resolve(e.target.files);\n",
              "    });\n",
              "  });\n",
              "\n",
              "  const cancel = document.createElement('button');\n",
              "  inputElement.parentElement.appendChild(cancel);\n",
              "  cancel.textContent = 'Cancel upload';\n",
              "  const cancelPromise = new Promise((resolve) => {\n",
              "    cancel.onclick = () => {\n",
              "      resolve(null);\n",
              "    };\n",
              "  });\n",
              "\n",
              "  // Wait for the user to pick the files.\n",
              "  const files = yield {\n",
              "    promise: Promise.race([pickedPromise, cancelPromise]),\n",
              "    response: {\n",
              "      action: 'starting',\n",
              "    }\n",
              "  };\n",
              "\n",
              "  cancel.remove();\n",
              "\n",
              "  // Disable the input element since further picks are not allowed.\n",
              "  inputElement.disabled = true;\n",
              "\n",
              "  if (!files) {\n",
              "    return {\n",
              "      response: {\n",
              "        action: 'complete',\n",
              "      }\n",
              "    };\n",
              "  }\n",
              "\n",
              "  for (const file of files) {\n",
              "    const li = document.createElement('li');\n",
              "    li.append(span(file.name, {fontWeight: 'bold'}));\n",
              "    li.append(span(\n",
              "        `(${file.type || 'n/a'}) - ${file.size} bytes, ` +\n",
              "        `last modified: ${\n",
              "            file.lastModifiedDate ? file.lastModifiedDate.toLocaleDateString() :\n",
              "                                    'n/a'} - `));\n",
              "    const percent = span('0% done');\n",
              "    li.appendChild(percent);\n",
              "\n",
              "    outputElement.appendChild(li);\n",
              "\n",
              "    const fileDataPromise = new Promise((resolve) => {\n",
              "      const reader = new FileReader();\n",
              "      reader.onload = (e) => {\n",
              "        resolve(e.target.result);\n",
              "      };\n",
              "      reader.readAsArrayBuffer(file);\n",
              "    });\n",
              "    // Wait for the data to be ready.\n",
              "    let fileData = yield {\n",
              "      promise: fileDataPromise,\n",
              "      response: {\n",
              "        action: 'continue',\n",
              "      }\n",
              "    };\n",
              "\n",
              "    // Use a chunked sending to avoid message size limits. See b/62115660.\n",
              "    let position = 0;\n",
              "    do {\n",
              "      const length = Math.min(fileData.byteLength - position, MAX_PAYLOAD_SIZE);\n",
              "      const chunk = new Uint8Array(fileData, position, length);\n",
              "      position += length;\n",
              "\n",
              "      const base64 = btoa(String.fromCharCode.apply(null, chunk));\n",
              "      yield {\n",
              "        response: {\n",
              "          action: 'append',\n",
              "          file: file.name,\n",
              "          data: base64,\n",
              "        },\n",
              "      };\n",
              "\n",
              "      let percentDone = fileData.byteLength === 0 ?\n",
              "          100 :\n",
              "          Math.round((position / fileData.byteLength) * 100);\n",
              "      percent.textContent = `${percentDone}% done`;\n",
              "\n",
              "    } while (position < fileData.byteLength);\n",
              "  }\n",
              "\n",
              "  // All done.\n",
              "  yield {\n",
              "    response: {\n",
              "      action: 'complete',\n",
              "    }\n",
              "  };\n",
              "}\n",
              "\n",
              "scope.google = scope.google || {};\n",
              "scope.google.colab = scope.google.colab || {};\n",
              "scope.google.colab._files = {\n",
              "  _uploadFiles,\n",
              "  _uploadFilesContinue,\n",
              "};\n",
              "})(self);\n",
              "</script> "
            ]
          },
          "metadata": {}
        },
        {
          "output_type": "stream",
          "name": "stdout",
          "text": [
            "Saving kaggle.json to kaggle (2).json\n"
          ]
        },
        {
          "output_type": "execute_result",
          "data": {
            "text/plain": [
              "{'kaggle (2).json': b'{\"username\":\"raunakyadav92\",\"key\":\"d670cc702e0a4e98e4b8ac93899545f8\"}'}"
            ]
          },
          "metadata": {},
          "execution_count": 1
        }
      ],
      "source": [
        "from google.colab import files\n",
        "files.upload()"
      ]
    },
    {
      "cell_type": "code",
      "source": [
        "!mkdir -p ~/.kaggle\n",
        "!cp kaggle.json ~/.kaggle/\n",
        "!chmod 600 ~/.kaggle/kaggle.json"
      ],
      "metadata": {
        "id": "tOqyw8HC71QP"
      },
      "execution_count": 2,
      "outputs": []
    },
    {
      "cell_type": "code",
      "source": [
        "!pip install -q kaggle"
      ],
      "metadata": {
        "id": "N8y2I5d18Aga"
      },
      "execution_count": 3,
      "outputs": []
    },
    {
      "cell_type": "code",
      "source": [
        "!kaggle competitions download -c summer-school-hack-i"
      ],
      "metadata": {
        "colab": {
          "base_uri": "https://localhost:8080/"
        },
        "id": "yCSaBPJJ8OZk",
        "outputId": "9515172b-05a1-4fb3-d928-fa5ef9c345b8"
      },
      "execution_count": 4,
      "outputs": [
        {
          "output_type": "stream",
          "name": "stdout",
          "text": [
            "summer-school-hack-i.zip: Skipping, found more recently modified local copy (use --force to force download)\n"
          ]
        }
      ]
    },
    {
      "cell_type": "code",
      "source": [
        "!unzip -q summer-school-hack-i.zip"
      ],
      "metadata": {
        "colab": {
          "base_uri": "https://localhost:8080/"
        },
        "id": "AP3I6duD8ED6",
        "outputId": "4ddef113-5e99-4f9f-8b72-00d21ea4c539"
      },
      "execution_count": null,
      "outputs": [
        {
          "output_type": "stream",
          "name": "stdout",
          "text": [
            "replace sample_submission.csv? [y]es, [n]o, [A]ll, [N]one, [r]ename: "
          ]
        }
      ]
    },
    {
      "cell_type": "code",
      "source": [
        "import pandas as pd\n",
        "import numpy as np"
      ],
      "metadata": {
        "id": "xCDynb_J8RXY"
      },
      "execution_count": null,
      "outputs": []
    },
    {
      "cell_type": "code",
      "source": [
        "df = pd.read_csv(\"/content/train.csv\")"
      ],
      "metadata": {
        "id": "BefyBe3P8YX-"
      },
      "execution_count": null,
      "outputs": []
    },
    {
      "cell_type": "code",
      "source": [
        "df.head()"
      ],
      "metadata": {
        "id": "7bCUrPFF8cEt"
      },
      "execution_count": null,
      "outputs": []
    },
    {
      "cell_type": "code",
      "source": [
        "df.columns"
      ],
      "metadata": {
        "id": "NNixNQM-8fIZ"
      },
      "execution_count": null,
      "outputs": []
    },
    {
      "cell_type": "code",
      "source": [
        "import matplotlib.pyplot as plt\n",
        "import seaborn as sns"
      ],
      "metadata": {
        "id": "DT7-pgNy8mSr"
      },
      "execution_count": null,
      "outputs": []
    },
    {
      "cell_type": "code",
      "source": [
        "\n",
        "\n",
        "\n",
        "from sklearn.model_selection import train_test_split, GridSearchCV, cross_val_score\n",
        "from sklearn.linear_model import LinearRegression, Ridge, Lasso\n",
        "from sklearn.metrics import mean_squared_error, r2_score\n",
        "from sklearn.decomposition import PCA\n",
        "from sklearn.preprocessing import StandardScaler\n",
        "from sklearn.feature_selection import SelectKBest, f_regression"
      ],
      "metadata": {
        "id": "_Jyn1iAb8pGV"
      },
      "execution_count": null,
      "outputs": []
    },
    {
      "cell_type": "code",
      "source": [
        "print(\"Shape:\", df.shape)\n",
        "print(\"\\nMissing values:\\n\", df.isnull().sum())\n",
        "print(\"\\nData types:\\n\", df.dtypes)"
      ],
      "metadata": {
        "id": "hW8KK0av8p4m"
      },
      "execution_count": null,
      "outputs": []
    },
    {
      "cell_type": "code",
      "source": [
        "plt.figure(figsize=(15, 12))\n",
        "sns.heatmap(df.corr(), annot=True, cmap='coolwarm')\n",
        "plt.title(\"Correlation Matrix\")\n",
        "plt.show()"
      ],
      "metadata": {
        "id": "6Fc5z46G8siM"
      },
      "execution_count": null,
      "outputs": []
    },
    {
      "cell_type": "code",
      "source": [
        "sns.histplot(df['target'], kde=True)\n",
        "plt.title(\"Target Distribution\")\n",
        "plt.show()"
      ],
      "metadata": {
        "id": "S_eOfTWC8zgT"
      },
      "execution_count": null,
      "outputs": []
    },
    {
      "cell_type": "code",
      "source": [
        "X = df.drop('target', axis=1)\n",
        "y = df['target']\n",
        "\n",
        "X_train, X_test, y_train, y_test = train_test_split(X, y, test_size=0.2, random_state=42)"
      ],
      "metadata": {
        "id": "wrOjNNvW82wa"
      },
      "execution_count": null,
      "outputs": []
    },
    {
      "cell_type": "code",
      "source": [
        "\n",
        "\n",
        "\n",
        "\n",
        "\n",
        "scaler = StandardScaler()\n",
        "X_train_scaled = scaler.fit_transform(X_train)\n",
        "X_test_scaled = scaler.transform(X_test)"
      ],
      "metadata": {
        "id": "5GNOOc7084HQ"
      },
      "execution_count": null,
      "outputs": []
    },
    {
      "cell_type": "code",
      "source": [
        "\n",
        "\n",
        "lr = LinearRegression()\n",
        "lr.fit(X_train_scaled, y_train)\n",
        "\n",
        "y_pred = lr.predict(X_test_scaled)\n",
        "\n",
        "print(\"R2 Score:\", r2_score(y_test, y_pred))\n",
        "print(\"RMSE:\", np.sqrt(mean_squared_error(y_test, y_pred)))"
      ],
      "metadata": {
        "id": "MkuHAP9C89LP"
      },
      "execution_count": null,
      "outputs": []
    },
    {
      "cell_type": "code",
      "source": [
        "pca = PCA()\n",
        "pca.fit(X_train_scaled)"
      ],
      "metadata": {
        "id": "OUh2yl-g9BxN"
      },
      "execution_count": null,
      "outputs": []
    },
    {
      "cell_type": "code",
      "source": [
        "\n",
        "plt.figure(figsize=(8, 5))\n",
        "plt.plot(np.cumsum(pca.explained_variance_ratio_), marker='o')\n",
        "plt.xlabel('Number of Components')\n",
        "plt.ylabel('Cumulative Explained Variance')\n",
        "plt.title('PCA - Explained Variance')\n",
        "plt.grid()\n",
        "plt.show()"
      ],
      "metadata": {
        "id": "1UlCuu7Y9DoY"
      },
      "execution_count": null,
      "outputs": []
    },
    {
      "cell_type": "code",
      "source": [
        "\n",
        "\n",
        "pca = PCA(n_components=10)\n",
        "X_train_pca = pca.fit_transform(X_train_scaled)\n",
        "X_test_pca = pca.transform(X_test_scaled)\n",
        "\n",
        "lr_pca = LinearRegression()\n",
        "lr_pca.fit(X_train_pca, y_train)\n",
        "\n",
        "y_pred_pca = lr_pca.predict(X_test_pca)\n",
        "\n",
        "print(\"PCA R2 Score:\", r2_score(y_test, y_pred_pca))\n",
        "print(\"PCA RMSE:\", np.sqrt(mean_squared_error(y_test, y_pred_pca)))"
      ],
      "metadata": {
        "id": "HWQex_jk9GfW"
      },
      "execution_count": null,
      "outputs": []
    },
    {
      "cell_type": "code",
      "source": [
        "\n",
        "\n",
        "\n",
        "selector = SelectKBest(score_func=f_regression, k=10)\n",
        "X_train_selected = selector.fit_transform(X_train_scaled, y_train)\n",
        "X_test_selected = selector.transform(X_test_scaled)\n",
        "\n",
        "lr_fs = LinearRegression()\n",
        "lr_fs.fit(X_train_selected, y_train)\n",
        "\n",
        "y_pred_fs = lr_fs.predict(X_test_selected)\n",
        "\n",
        "print(\"FS R2 Score:\", r2_score(y_test, y_pred_fs))\n",
        "print(\"FS RMSE:\", np.sqrt(mean_squared_error(y_test, y_pred_fs)))\n"
      ],
      "metadata": {
        "id": "VOD9UGDA9L1I"
      },
      "execution_count": null,
      "outputs": []
    },
    {
      "cell_type": "code",
      "source": [
        "from sklearn.impute import SimpleImputer\n",
        "from scipy.stats import zscore"
      ],
      "metadata": {
        "id": "RLcOb4929Nm1"
      },
      "execution_count": null,
      "outputs": []
    },
    {
      "cell_type": "code",
      "source": [
        "print(\"Shape:\", df.shape)\n",
        "print(\"\\nMissing Values:\\n\", df.isnull().sum())\n",
        "df.describe()"
      ],
      "metadata": {
        "id": "l86jwhdO9RoE"
      },
      "execution_count": null,
      "outputs": []
    },
    {
      "cell_type": "code",
      "source": [
        "\n",
        "\n",
        "z_scores = np.abs(zscore(X))\n",
        "X_clean = X[(z_scores < 3).all(axis=1)]\n",
        "y_clean = y[X_clean.index]\n",
        "\n",
        "print(\"After removing outliers:\", X_clean.shape)"
      ],
      "metadata": {
        "id": "HzFnMhES9W04"
      },
      "execution_count": null,
      "outputs": []
    },
    {
      "cell_type": "code",
      "source": [
        "scaler = StandardScaler()\n",
        "X_scaled = scaler.fit_transform(X_clean)\n",
        "\n",
        "X_train, X_test, y_train, y_test = train_test_split(X_scaled, y_clean, test_size=0.2, random_state=42)"
      ],
      "metadata": {
        "id": "72uPIWsE9ZUW"
      },
      "execution_count": null,
      "outputs": []
    },
    {
      "cell_type": "code",
      "source": [
        "from statsmodels.stats.outliers_influence import variance_inflation_factor"
      ],
      "metadata": {
        "id": "1_HY3VSN9eBD"
      },
      "execution_count": null,
      "outputs": []
    },
    {
      "cell_type": "code",
      "source": [
        "X_df = pd.DataFrame(X_scaled, columns=[f'f{i}' for i in range(1, 21)])\n",
        "vif_data = pd.DataFrame()\n",
        "vif_data[\"Feature\"] = X_df.columns\n",
        "vif_data[\"VIF\"] = [variance_inflation_factor(X_df.values, i) for i in range(X_df.shape[1])]\n",
        "\n",
        "print(vif_data)"
      ],
      "metadata": {
        "id": "TMJPXgDG9g5k"
      },
      "execution_count": null,
      "outputs": []
    },
    {
      "cell_type": "code",
      "source": [
        "!pip install xgboost catboost lightgbm optuna --quiet"
      ],
      "metadata": {
        "id": "9jP2Enc_9lYm"
      },
      "execution_count": null,
      "outputs": []
    },
    {
      "cell_type": "code",
      "source": [
        "from sklearn.linear_model import LinearRegression\n",
        "from sklearn.metrics import r2_score, mean_squared_error\n",
        "\n",
        "lr = LinearRegression()\n",
        "lr.fit(X_train, y_train)\n",
        "\n",
        "y_pred_lr = lr.predict(X_test)\n",
        "\n",
        "print(\"Linear Regression R2 Score:\", r2_score(y_test, y_pred_lr))\n",
        "print(\"Linear Regression RMSE:\", np.sqrt(mean_squared_error(y_test, y_pred_lr)))"
      ],
      "metadata": {
        "id": "4cT2RB3n9ocG"
      },
      "execution_count": null,
      "outputs": []
    },
    {
      "cell_type": "code",
      "source": [
        "from xgboost import XGBRegressor\n",
        "\n",
        "xgb = XGBRegressor(random_state=42)\n",
        "xgb.fit(X_train, y_train)\n",
        "\n",
        "y_pred_xgb = xgb.predict(X_test)\n",
        "\n",
        "print(\"XGBoost R2 Score:\", r2_score(y_test, y_pred_xgb))\n",
        "print(\"XGBoost RMSE:\", np.sqrt(mean_squared_error(y_test, y_pred_xgb)))"
      ],
      "metadata": {
        "id": "MI0Bp1Gw9rn4"
      },
      "execution_count": null,
      "outputs": []
    },
    {
      "cell_type": "code",
      "source": [
        "from catboost import CatBoostRegressor\n",
        "\n",
        "cat = CatBoostRegressor(verbose=0, random_state=42)\n",
        "cat.fit(X_train, y_train)\n",
        "\n",
        "y_pred_cat = cat.predict(X_test)\n",
        "\n",
        "print(\"CatBoost R2 Score:\", r2_score(y_test, y_pred_cat))\n",
        "print(\"CatBoost RMSE:\", np.sqrt(mean_squared_error(y_test, y_pred_cat)))\n"
      ],
      "metadata": {
        "id": "uRQMAyTh9uIP"
      },
      "execution_count": null,
      "outputs": []
    },
    {
      "cell_type": "code",
      "source": [
        "from lightgbm import LGBMRegressor\n",
        "\n",
        "lgbm = LGBMRegressor(random_state=42)\n",
        "lgbm.fit(X_train, y_train)\n",
        "\n",
        "y_pred_lgbm = lgbm.predict(X_test)\n",
        "\n",
        "print(\"LightGBM R2 Score:\", r2_score(y_test, y_pred_lgbm))\n",
        "print(\"LightGBM RMSE:\", np.sqrt(mean_squared_error(y_test, y_pred_lgbm)))"
      ],
      "metadata": {
        "id": "iump2niR9zoW"
      },
      "execution_count": null,
      "outputs": []
    },
    {
      "cell_type": "code",
      "source": [
        "import optuna\n",
        "\n",
        "def objective_xgb(trial):\n",
        "    params = {\n",
        "        'max_depth': trial.suggest_int('max_depth', 3, 10),\n",
        "        'learning_rate': trial.suggest_float('learning_rate', 0.01, 0.3),\n",
        "        'n_estimators': trial.suggest_int('n_estimators', 100, 1000),\n",
        "        'subsample': trial.suggest_float('subsample', 0.5, 1.0),\n",
        "        'colsample_bytree': trial.suggest_float('colsample_bytree', 0.5, 1.0),\n",
        "        'gamma': trial.suggest_float('gamma', 0, 5),\n",
        "        'reg_alpha': trial.suggest_float('reg_alpha', 0, 1),\n",
        "        'reg_lambda': trial.suggest_float('reg_lambda', 0, 1),\n",
        "        'random_state': 42\n",
        "    }\n",
        "\n",
        "    model = XGBRegressor(**params)\n",
        "    model.fit(X_train, y_train)\n",
        "    pred = model.predict(X_test)\n",
        "    return mean_squared_error(y_test, pred)"
      ],
      "metadata": {
        "id": "v6yuIKSp91rJ"
      },
      "execution_count": null,
      "outputs": []
    },
    {
      "cell_type": "code",
      "source": [
        "\n",
        "study_xgb = optuna.create_study(direction=\"minimize\")\n",
        "study_xgb.optimize(objective_xgb, n_trials=50)\n",
        "\n",
        "print(\"Best params for XGBoost:\", study_xgb.best_params)\n",
        "print(\"Best RMSE:\", np.sqrt(study_xgb.best_value))"
      ],
      "metadata": {
        "id": "SblY8lAg96Tz"
      },
      "execution_count": null,
      "outputs": []
    },
    {
      "cell_type": "code",
      "source": [
        "best_xgb = XGBRegressor(**study_xgb.best_params)\n",
        "best_xgb.fit(X_train, y_train)\n",
        "y_pred_best = best_xgb.predict(X_test)\n",
        "\n",
        "print(\"Final XGBoost R2:\", r2_score(y_test, y_pred_best))\n",
        "print(\"Final XGBoost RMSE:\", np.sqrt(mean_squared_error(y_test, y_pred_best)))"
      ],
      "metadata": {
        "id": "fWc57tg29-oL"
      },
      "execution_count": null,
      "outputs": []
    },
    {
      "cell_type": "code",
      "source": [
        "from sklearn.ensemble import StackingRegressor\n",
        "from sklearn.linear_model import Ridge\n",
        "from sklearn.pipeline import make_pipeline"
      ],
      "metadata": {
        "id": "V6xgpEtS-CVV"
      },
      "execution_count": null,
      "outputs": []
    },
    {
      "cell_type": "code",
      "source": [
        "def objective_stack(trial):\n",
        "    xgb_params = {\n",
        "        'max_depth': trial.suggest_int('xgb_max_depth', 3, 8),\n",
        "        'learning_rate': trial.suggest_float('xgb_lr', 0.01, 0.3),\n",
        "        'n_estimators': trial.suggest_int('xgb_n_estimators', 100, 500),\n",
        "        'subsample': trial.suggest_float('xgb_subsample', 0.6, 1.0),\n",
        "        'colsample_bytree': trial.suggest_float('xgb_colsample', 0.6, 1.0),\n",
        "        'random_state': 42\n",
        "    }\n",
        "\n",
        "    lgb_params = {\n",
        "        'max_depth': trial.suggest_int('lgb_max_depth', 3, 8),\n",
        "        'learning_rate': trial.suggest_float('lgb_lr', 0.01, 0.3),\n",
        "        'n_estimators': trial.suggest_int('lgb_n_estimators', 100, 500),\n",
        "        'subsample': trial.suggest_float('lgb_subsample', 0.6, 1.0),\n",
        "        'colsample_bytree': trial.suggest_float('lgb_colsample', 0.6, 1.0),\n",
        "        'random_state': 42\n",
        "    }\n",
        "\n",
        "    cat_params = {\n",
        "        'depth': trial.suggest_int('cat_depth', 3, 8),\n",
        "        'learning_rate': trial.suggest_float('cat_lr', 0.01, 0.3),\n",
        "        'iterations': trial.suggest_int('cat_iterations', 100, 500),\n",
        "        'random_seed': 42,\n",
        "        'verbose': 0\n",
        "    }\n",
        "\n",
        "    xgb = XGBRegressor(**xgb_params)\n",
        "    lgb = LGBMRegressor(**lgb_params)\n",
        "    cat = CatBoostRegressor(**cat_params)\n",
        "\n",
        "\n",
        "    meta = Ridge()\n",
        "\n",
        "    stack = StackingRegressor(\n",
        "        estimators=[('xgb', xgb), ('lgb', lgb), ('cat', cat)],\n",
        "        final_estimator=meta,\n",
        "        passthrough=True,\n",
        "        n_jobs=-1\n",
        "    )\n",
        "\n",
        "    stack.fit(X_train, y_train)\n",
        "    preds = stack.predict(X_test)\n",
        "    return mean_squared_error(y_test, preds)\n"
      ],
      "metadata": {
        "id": "DwMXffZd-Es7"
      },
      "execution_count": null,
      "outputs": []
    },
    {
      "cell_type": "code",
      "source": [
        "study_stack = optuna.create_study(direction='minimize')\n",
        "study_stack.optimize(objective_stack, n_trials=25)\n",
        "\n",
        "print(\"Best parameters from Optuna for StackingRegressor:\")\n",
        "for k, v in study_stack.best_params.items():\n",
        "    print(f\"{k}: {v}\")\n",
        "\n",
        "print(\"Best RMSE:\", np.sqrt(study_stack.best_value))"
      ],
      "metadata": {
        "id": "RNWiLC4e-GYI"
      },
      "execution_count": null,
      "outputs": []
    },
    {
      "cell_type": "code",
      "source": [
        "\n",
        "bp = study_stack.best_params\n",
        "\n",
        "xgb_best = XGBRegressor(\n",
        "    max_depth=bp['xgb_max_depth'],\n",
        "    learning_rate=bp['xgb_lr'],\n",
        "    n_estimators=bp['xgb_n_estimators'],\n",
        "    subsample=bp['xgb_subsample'],\n",
        "    colsample_bytree=bp['xgb_colsample'],\n",
        "    random_state=42\n",
        ")\n",
        "\n",
        "lgb_best = LGBMRegressor(\n",
        "    max_depth=bp['lgb_max_depth'],\n",
        "    learning_rate=bp['lgb_lr'],\n",
        "    n_estimators=bp['lgb_n_estimators'],\n",
        "    subsample=bp['lgb_subsample'],\n",
        "    colsample_bytree=bp['lgb_colsample'],\n",
        "    random_state=42\n",
        ")\n",
        "\n",
        "cat_best = CatBoostRegressor(\n",
        "    depth=bp['cat_depth'],\n",
        "    learning_rate=bp['cat_lr'],\n",
        "    iterations=bp['cat_iterations'],\n",
        "    random_seed=42,\n",
        "    verbose=0\n",
        ")\n",
        "\n",
        "meta_learner = Ridge()\n",
        "\n",
        "final_stack = StackingRegressor(\n",
        "    estimators=[('xgb', xgb_best), ('lgb', lgb_best), ('cat', cat_best)],\n",
        "    final_estimator=meta_learner,\n",
        "    passthrough=True,\n",
        "    n_jobs=-1\n",
        ")\n",
        "\n",
        "final_stack.fit(X_train, y_train)\n",
        "y_pred_stack = final_stack.predict(X_test)\n",
        "\n",
        "print(\"Stacking Regressor R2:\", r2_score(y_test, y_pred_stack))\n",
        "print(\"Stacking Regressor RMSE:\", np.sqrt(mean_squared_error(y_test, y_pred_stack)))\n"
      ],
      "metadata": {
        "id": "XcZbXWkE-Lb6"
      },
      "execution_count": null,
      "outputs": []
    },
    {
      "cell_type": "code",
      "source": [
        "# submission = pd.DataFrame({\"id\": test_df[\"id\"], \"target\": predictions})\n",
        "# submission.to_csv(\"Submission.csv\", index=False)\n",
        "# print(\"Karman_Singh_2023362.csv created!\")\n"
      ],
      "metadata": {
        "id": "X0_uY8pl-Pqe"
      },
      "execution_count": null,
      "outputs": []
    }
  ]
}